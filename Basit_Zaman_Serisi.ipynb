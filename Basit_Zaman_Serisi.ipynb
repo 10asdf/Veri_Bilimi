{
 "cells": [
  {
   "cell_type": "markdown",
   "metadata": {},
   "source": [
    "# Zaman Serisi Oluşturma"
   ]
  },
  {
   "cell_type": "markdown",
   "metadata": {},
   "source": [
    "##### Veriler https://corona.cbddo.gov.tr/Home/History sitesinden alınmıştır"
   ]
  },
  {
   "cell_type": "code",
   "execution_count": null,
   "metadata": {},
   "outputs": [],
   "source": []
  },
  {
   "cell_type": "markdown",
   "metadata": {},
   "source": [
    "##### Siteden aldığımız veriyi notebook ortamında göstermek için pandas modülü eklenir"
   ]
  },
  {
   "cell_type": "code",
   "execution_count": 1,
   "metadata": {},
   "outputs": [],
   "source": [
    "import pandas as pd"
   ]
  },
  {
   "cell_type": "code",
   "execution_count": null,
   "metadata": {},
   "outputs": [],
   "source": []
  },
  {
   "cell_type": "markdown",
   "metadata": {},
   "source": [
    "##### İstenilen veri seçilir"
   ]
  },
  {
   "cell_type": "code",
   "execution_count": 2,
   "metadata": {},
   "outputs": [],
   "source": [
    "data=pd.read_excel(\"data/turkiyecorona.xlsx\")\n",
    "df=data.copy()"
   ]
  },
  {
   "cell_type": "code",
   "execution_count": null,
   "metadata": {},
   "outputs": [],
   "source": []
  },
  {
   "cell_type": "markdown",
   "metadata": {},
   "source": [
    "##### Verinin ilk 5 tanesi gösterilecek şekilde ortamda gösterilir"
   ]
  },
  {
   "cell_type": "code",
   "execution_count": 3,
   "metadata": {
    "scrolled": true
   },
   "outputs": [
    {
     "data": {
      "text/html": [
       "<div>\n",
       "<style scoped>\n",
       "    .dataframe tbody tr th:only-of-type {\n",
       "        vertical-align: middle;\n",
       "    }\n",
       "\n",
       "    .dataframe tbody tr th {\n",
       "        vertical-align: top;\n",
       "    }\n",
       "\n",
       "    .dataframe thead th {\n",
       "        text-align: right;\n",
       "    }\n",
       "</style>\n",
       "<table border=\"1\" class=\"dataframe\">\n",
       "  <thead>\n",
       "    <tr style=\"text-align: right;\">\n",
       "      <th></th>\n",
       "      <th>Ülke</th>\n",
       "      <th>Bölge</th>\n",
       "      <th>Tanı</th>\n",
       "      <th>Ölüm</th>\n",
       "      <th>İyileşen</th>\n",
       "      <th>Tarih</th>\n",
       "    </tr>\n",
       "  </thead>\n",
       "  <tbody>\n",
       "    <tr>\n",
       "      <td>0</td>\n",
       "      <td>Türkiye</td>\n",
       "      <td>NaN</td>\n",
       "      <td>34109</td>\n",
       "      <td>725</td>\n",
       "      <td>1582</td>\n",
       "      <td>4/7/2020</td>\n",
       "    </tr>\n",
       "    <tr>\n",
       "      <td>1</td>\n",
       "      <td>Türkiye</td>\n",
       "      <td>NaN</td>\n",
       "      <td>30217</td>\n",
       "      <td>649</td>\n",
       "      <td>1326</td>\n",
       "      <td>4/6/2020</td>\n",
       "    </tr>\n",
       "    <tr>\n",
       "      <td>2</td>\n",
       "      <td>Türkiye</td>\n",
       "      <td>NaN</td>\n",
       "      <td>27069</td>\n",
       "      <td>574</td>\n",
       "      <td>1042</td>\n",
       "      <td>4/5/2020</td>\n",
       "    </tr>\n",
       "    <tr>\n",
       "      <td>3</td>\n",
       "      <td>Türkiye</td>\n",
       "      <td>NaN</td>\n",
       "      <td>23934</td>\n",
       "      <td>501</td>\n",
       "      <td>786</td>\n",
       "      <td>4/4/2020</td>\n",
       "    </tr>\n",
       "    <tr>\n",
       "      <td>4</td>\n",
       "      <td>Türkiye</td>\n",
       "      <td>NaN</td>\n",
       "      <td>20921</td>\n",
       "      <td>425</td>\n",
       "      <td>484</td>\n",
       "      <td>4/3/2020</td>\n",
       "    </tr>\n",
       "  </tbody>\n",
       "</table>\n",
       "</div>"
      ],
      "text/plain": [
       "      Ülke  Bölge   Tanı  Ölüm  İyileşen     Tarih\n",
       "0  Türkiye    NaN  34109   725      1582  4/7/2020\n",
       "1  Türkiye    NaN  30217   649      1326  4/6/2020\n",
       "2  Türkiye    NaN  27069   574      1042  4/5/2020\n",
       "3  Türkiye    NaN  23934   501       786  4/4/2020\n",
       "4  Türkiye    NaN  20921   425       484  4/3/2020"
      ]
     },
     "execution_count": 3,
     "metadata": {},
     "output_type": "execute_result"
    }
   ],
   "source": [
    "df.head()"
   ]
  },
  {
   "cell_type": "code",
   "execution_count": null,
   "metadata": {},
   "outputs": [],
   "source": []
  },
  {
   "cell_type": "markdown",
   "metadata": {},
   "source": [
    "##### Veride kaç (satır,sütun) var diye incelenir"
   ]
  },
  {
   "cell_type": "code",
   "execution_count": 4,
   "metadata": {},
   "outputs": [
    {
     "data": {
      "text/plain": [
       "(28, 6)"
      ]
     },
     "execution_count": 4,
     "metadata": {},
     "output_type": "execute_result"
    }
   ],
   "source": [
    "df.shape"
   ]
  },
  {
   "cell_type": "markdown",
   "metadata": {},
   "source": [
    "##### Veride boş değer olup olmadığını eğer boş varsa kaç tane boş değer var diye kontrol edilir.(Bölge sütunu hiç doldurulmamış)"
   ]
  },
  {
   "cell_type": "code",
   "execution_count": 5,
   "metadata": {
    "scrolled": true
   },
   "outputs": [
    {
     "data": {
      "text/plain": [
       "Ülke         0\n",
       "Bölge       28\n",
       "Tanı         0\n",
       "Ölüm         0\n",
       "İyileşen     0\n",
       "Tarih        0\n",
       "dtype: int64"
      ]
     },
     "execution_count": 5,
     "metadata": {},
     "output_type": "execute_result"
    }
   ],
   "source": [
    "df.isnull().sum()"
   ]
  },
  {
   "cell_type": "code",
   "execution_count": null,
   "metadata": {},
   "outputs": [],
   "source": []
  },
  {
   "cell_type": "markdown",
   "metadata": {},
   "source": [
    "##### Veride 'Bölge' sütunu boş olduğundan ve 'Ülke' sütununda satece Türkiye bulunduğundan keyfi olarak o satırlar silinir"
   ]
  },
  {
   "cell_type": "code",
   "execution_count": 6,
   "metadata": {},
   "outputs": [],
   "source": [
    "df.drop([\"Ülke\",\"Bölge\"],axis=1,inplace=True)"
   ]
  },
  {
   "cell_type": "code",
   "execution_count": null,
   "metadata": {},
   "outputs": [],
   "source": []
  },
  {
   "cell_type": "markdown",
   "metadata": {},
   "source": [
    "##### Güncellenen verinin ilk 5 satırı gösterilir"
   ]
  },
  {
   "cell_type": "code",
   "execution_count": 7,
   "metadata": {
    "scrolled": true
   },
   "outputs": [
    {
     "data": {
      "text/html": [
       "<div>\n",
       "<style scoped>\n",
       "    .dataframe tbody tr th:only-of-type {\n",
       "        vertical-align: middle;\n",
       "    }\n",
       "\n",
       "    .dataframe tbody tr th {\n",
       "        vertical-align: top;\n",
       "    }\n",
       "\n",
       "    .dataframe thead th {\n",
       "        text-align: right;\n",
       "    }\n",
       "</style>\n",
       "<table border=\"1\" class=\"dataframe\">\n",
       "  <thead>\n",
       "    <tr style=\"text-align: right;\">\n",
       "      <th></th>\n",
       "      <th>Tanı</th>\n",
       "      <th>Ölüm</th>\n",
       "      <th>İyileşen</th>\n",
       "      <th>Tarih</th>\n",
       "    </tr>\n",
       "  </thead>\n",
       "  <tbody>\n",
       "    <tr>\n",
       "      <td>0</td>\n",
       "      <td>34109</td>\n",
       "      <td>725</td>\n",
       "      <td>1582</td>\n",
       "      <td>4/7/2020</td>\n",
       "    </tr>\n",
       "    <tr>\n",
       "      <td>1</td>\n",
       "      <td>30217</td>\n",
       "      <td>649</td>\n",
       "      <td>1326</td>\n",
       "      <td>4/6/2020</td>\n",
       "    </tr>\n",
       "    <tr>\n",
       "      <td>2</td>\n",
       "      <td>27069</td>\n",
       "      <td>574</td>\n",
       "      <td>1042</td>\n",
       "      <td>4/5/2020</td>\n",
       "    </tr>\n",
       "    <tr>\n",
       "      <td>3</td>\n",
       "      <td>23934</td>\n",
       "      <td>501</td>\n",
       "      <td>786</td>\n",
       "      <td>4/4/2020</td>\n",
       "    </tr>\n",
       "    <tr>\n",
       "      <td>4</td>\n",
       "      <td>20921</td>\n",
       "      <td>425</td>\n",
       "      <td>484</td>\n",
       "      <td>4/3/2020</td>\n",
       "    </tr>\n",
       "  </tbody>\n",
       "</table>\n",
       "</div>"
      ],
      "text/plain": [
       "    Tanı  Ölüm  İyileşen     Tarih\n",
       "0  34109   725      1582  4/7/2020\n",
       "1  30217   649      1326  4/6/2020\n",
       "2  27069   574      1042  4/5/2020\n",
       "3  23934   501       786  4/4/2020\n",
       "4  20921   425       484  4/3/2020"
      ]
     },
     "execution_count": 7,
     "metadata": {},
     "output_type": "execute_result"
    }
   ],
   "source": [
    "df.head()"
   ]
  },
  {
   "cell_type": "code",
   "execution_count": null,
   "metadata": {},
   "outputs": [],
   "source": []
  },
  {
   "cell_type": "markdown",
   "metadata": {},
   "source": [
    "##### Sütunların veri tiplerine bakılır"
   ]
  },
  {
   "cell_type": "code",
   "execution_count": 8,
   "metadata": {
    "scrolled": true
   },
   "outputs": [
    {
     "data": {
      "text/plain": [
       "Tanı         int64\n",
       "Ölüm         int64\n",
       "İyileşen     int64\n",
       "Tarih       object\n",
       "dtype: object"
      ]
     },
     "execution_count": 8,
     "metadata": {},
     "output_type": "execute_result"
    }
   ],
   "source": [
    "df.dtypes"
   ]
  },
  {
   "cell_type": "code",
   "execution_count": null,
   "metadata": {},
   "outputs": [],
   "source": []
  },
  {
   "cell_type": "markdown",
   "metadata": {},
   "source": [
    "##### İndex kısmına tarihin değerleri atanır.Tarih object olduğundan index'in veri tipi date olarak çevirilir"
   ]
  },
  {
   "cell_type": "code",
   "execution_count": 9,
   "metadata": {},
   "outputs": [],
   "source": [
    "df.index=df[\"Tarih\"]\n",
    "df.index=pd.DatetimeIndex(df.index)"
   ]
  },
  {
   "cell_type": "code",
   "execution_count": null,
   "metadata": {},
   "outputs": [],
   "source": []
  },
  {
   "cell_type": "markdown",
   "metadata": {},
   "source": [
    "##### Verinin ilk 5 satırı gösterilir"
   ]
  },
  {
   "cell_type": "code",
   "execution_count": 10,
   "metadata": {
    "scrolled": true
   },
   "outputs": [
    {
     "data": {
      "text/html": [
       "<div>\n",
       "<style scoped>\n",
       "    .dataframe tbody tr th:only-of-type {\n",
       "        vertical-align: middle;\n",
       "    }\n",
       "\n",
       "    .dataframe tbody tr th {\n",
       "        vertical-align: top;\n",
       "    }\n",
       "\n",
       "    .dataframe thead th {\n",
       "        text-align: right;\n",
       "    }\n",
       "</style>\n",
       "<table border=\"1\" class=\"dataframe\">\n",
       "  <thead>\n",
       "    <tr style=\"text-align: right;\">\n",
       "      <th></th>\n",
       "      <th>Tanı</th>\n",
       "      <th>Ölüm</th>\n",
       "      <th>İyileşen</th>\n",
       "      <th>Tarih</th>\n",
       "    </tr>\n",
       "    <tr>\n",
       "      <th>Tarih</th>\n",
       "      <th></th>\n",
       "      <th></th>\n",
       "      <th></th>\n",
       "      <th></th>\n",
       "    </tr>\n",
       "  </thead>\n",
       "  <tbody>\n",
       "    <tr>\n",
       "      <td>2020-04-07</td>\n",
       "      <td>34109</td>\n",
       "      <td>725</td>\n",
       "      <td>1582</td>\n",
       "      <td>4/7/2020</td>\n",
       "    </tr>\n",
       "    <tr>\n",
       "      <td>2020-04-06</td>\n",
       "      <td>30217</td>\n",
       "      <td>649</td>\n",
       "      <td>1326</td>\n",
       "      <td>4/6/2020</td>\n",
       "    </tr>\n",
       "    <tr>\n",
       "      <td>2020-04-05</td>\n",
       "      <td>27069</td>\n",
       "      <td>574</td>\n",
       "      <td>1042</td>\n",
       "      <td>4/5/2020</td>\n",
       "    </tr>\n",
       "    <tr>\n",
       "      <td>2020-04-04</td>\n",
       "      <td>23934</td>\n",
       "      <td>501</td>\n",
       "      <td>786</td>\n",
       "      <td>4/4/2020</td>\n",
       "    </tr>\n",
       "    <tr>\n",
       "      <td>2020-04-03</td>\n",
       "      <td>20921</td>\n",
       "      <td>425</td>\n",
       "      <td>484</td>\n",
       "      <td>4/3/2020</td>\n",
       "    </tr>\n",
       "  </tbody>\n",
       "</table>\n",
       "</div>"
      ],
      "text/plain": [
       "             Tanı  Ölüm  İyileşen     Tarih\n",
       "Tarih                                      \n",
       "2020-04-07  34109   725      1582  4/7/2020\n",
       "2020-04-06  30217   649      1326  4/6/2020\n",
       "2020-04-05  27069   574      1042  4/5/2020\n",
       "2020-04-04  23934   501       786  4/4/2020\n",
       "2020-04-03  20921   425       484  4/3/2020"
      ]
     },
     "execution_count": 10,
     "metadata": {},
     "output_type": "execute_result"
    }
   ],
   "source": [
    "df.head()"
   ]
  },
  {
   "cell_type": "code",
   "execution_count": null,
   "metadata": {},
   "outputs": [],
   "source": []
  },
  {
   "cell_type": "markdown",
   "metadata": {},
   "source": [
    "##### Sıralama 'bugünden geçmişe' olarak ayarlandığından dolayı keyfi olarak sıralama 'geçmişten bugüne' olacak şekilde ayarlama yapılır"
   ]
  },
  {
   "cell_type": "code",
   "execution_count": 11,
   "metadata": {},
   "outputs": [],
   "source": [
    "df=df[::-1]"
   ]
  },
  {
   "cell_type": "code",
   "execution_count": null,
   "metadata": {},
   "outputs": [],
   "source": []
  },
  {
   "cell_type": "markdown",
   "metadata": {},
   "source": [
    "##### Verinin güncellenmiş şekli gösterilir"
   ]
  },
  {
   "cell_type": "code",
   "execution_count": 12,
   "metadata": {
    "scrolled": true
   },
   "outputs": [
    {
     "data": {
      "text/html": [
       "<div>\n",
       "<style scoped>\n",
       "    .dataframe tbody tr th:only-of-type {\n",
       "        vertical-align: middle;\n",
       "    }\n",
       "\n",
       "    .dataframe tbody tr th {\n",
       "        vertical-align: top;\n",
       "    }\n",
       "\n",
       "    .dataframe thead th {\n",
       "        text-align: right;\n",
       "    }\n",
       "</style>\n",
       "<table border=\"1\" class=\"dataframe\">\n",
       "  <thead>\n",
       "    <tr style=\"text-align: right;\">\n",
       "      <th></th>\n",
       "      <th>Tanı</th>\n",
       "      <th>Ölüm</th>\n",
       "      <th>İyileşen</th>\n",
       "      <th>Tarih</th>\n",
       "    </tr>\n",
       "    <tr>\n",
       "      <th>Tarih</th>\n",
       "      <th></th>\n",
       "      <th></th>\n",
       "      <th></th>\n",
       "      <th></th>\n",
       "    </tr>\n",
       "  </thead>\n",
       "  <tbody>\n",
       "    <tr>\n",
       "      <td>2020-03-11</td>\n",
       "      <td>1</td>\n",
       "      <td>0</td>\n",
       "      <td>0</td>\n",
       "      <td>3/11/2020</td>\n",
       "    </tr>\n",
       "    <tr>\n",
       "      <td>2020-03-12</td>\n",
       "      <td>1</td>\n",
       "      <td>0</td>\n",
       "      <td>0</td>\n",
       "      <td>3/12/2020</td>\n",
       "    </tr>\n",
       "    <tr>\n",
       "      <td>2020-03-13</td>\n",
       "      <td>5</td>\n",
       "      <td>0</td>\n",
       "      <td>0</td>\n",
       "      <td>3/13/2020</td>\n",
       "    </tr>\n",
       "    <tr>\n",
       "      <td>2020-03-14</td>\n",
       "      <td>6</td>\n",
       "      <td>0</td>\n",
       "      <td>0</td>\n",
       "      <td>3/14/2020</td>\n",
       "    </tr>\n",
       "    <tr>\n",
       "      <td>2020-03-15</td>\n",
       "      <td>18</td>\n",
       "      <td>0</td>\n",
       "      <td>0</td>\n",
       "      <td>3/15/2020</td>\n",
       "    </tr>\n",
       "  </tbody>\n",
       "</table>\n",
       "</div>"
      ],
      "text/plain": [
       "            Tanı  Ölüm  İyileşen      Tarih\n",
       "Tarih                                      \n",
       "2020-03-11     1     0         0  3/11/2020\n",
       "2020-03-12     1     0         0  3/12/2020\n",
       "2020-03-13     5     0         0  3/13/2020\n",
       "2020-03-14     6     0         0  3/14/2020\n",
       "2020-03-15    18     0         0  3/15/2020"
      ]
     },
     "execution_count": 12,
     "metadata": {},
     "output_type": "execute_result"
    }
   ],
   "source": [
    "df.head()"
   ]
  },
  {
   "cell_type": "code",
   "execution_count": null,
   "metadata": {},
   "outputs": [],
   "source": []
  },
  {
   "cell_type": "markdown",
   "metadata": {},
   "source": [
    "##### Değişkenlerin istatistiksel olarak yapısı incelenir"
   ]
  },
  {
   "cell_type": "code",
   "execution_count": 13,
   "metadata": {
    "scrolled": false
   },
   "outputs": [
    {
     "data": {
      "text/html": [
       "<div>\n",
       "<style scoped>\n",
       "    .dataframe tbody tr th:only-of-type {\n",
       "        vertical-align: middle;\n",
       "    }\n",
       "\n",
       "    .dataframe tbody tr th {\n",
       "        vertical-align: top;\n",
       "    }\n",
       "\n",
       "    .dataframe thead th {\n",
       "        text-align: right;\n",
       "    }\n",
       "</style>\n",
       "<table border=\"1\" class=\"dataframe\">\n",
       "  <thead>\n",
       "    <tr style=\"text-align: right;\">\n",
       "      <th></th>\n",
       "      <th>count</th>\n",
       "      <th>mean</th>\n",
       "      <th>std</th>\n",
       "      <th>min</th>\n",
       "      <th>25%</th>\n",
       "      <th>50%</th>\n",
       "      <th>75%</th>\n",
       "      <th>max</th>\n",
       "    </tr>\n",
       "  </thead>\n",
       "  <tbody>\n",
       "    <tr>\n",
       "      <td>Tanı</td>\n",
       "      <td>28.0</td>\n",
       "      <td>8206.464286</td>\n",
       "      <td>10557.198936</td>\n",
       "      <td>1.0</td>\n",
       "      <td>167.75</td>\n",
       "      <td>2152.5</td>\n",
       "      <td>14068.00</td>\n",
       "      <td>34109.0</td>\n",
       "    </tr>\n",
       "    <tr>\n",
       "      <td>Ölüm</td>\n",
       "      <td>28.0</td>\n",
       "      <td>160.857143</td>\n",
       "      <td>220.442436</td>\n",
       "      <td>0.0</td>\n",
       "      <td>2.50</td>\n",
       "      <td>51.5</td>\n",
       "      <td>229.75</td>\n",
       "      <td>725.0</td>\n",
       "    </tr>\n",
       "    <tr>\n",
       "      <td>İyileşen</td>\n",
       "      <td>28.0</td>\n",
       "      <td>237.214286</td>\n",
       "      <td>430.791120</td>\n",
       "      <td>0.0</td>\n",
       "      <td>0.00</td>\n",
       "      <td>13.0</td>\n",
       "      <td>265.50</td>\n",
       "      <td>1582.0</td>\n",
       "    </tr>\n",
       "  </tbody>\n",
       "</table>\n",
       "</div>"
      ],
      "text/plain": [
       "          count         mean           std  min     25%     50%       75%  \\\n",
       "Tanı       28.0  8206.464286  10557.198936  1.0  167.75  2152.5  14068.00   \n",
       "Ölüm       28.0   160.857143    220.442436  0.0    2.50    51.5    229.75   \n",
       "İyileşen   28.0   237.214286    430.791120  0.0    0.00    13.0    265.50   \n",
       "\n",
       "              max  \n",
       "Tanı      34109.0  \n",
       "Ölüm        725.0  \n",
       "İyileşen   1582.0  "
      ]
     },
     "execution_count": 13,
     "metadata": {},
     "output_type": "execute_result"
    }
   ],
   "source": [
    "df.describe().T"
   ]
  },
  {
   "cell_type": "code",
   "execution_count": null,
   "metadata": {},
   "outputs": [],
   "source": []
  },
  {
   "cell_type": "markdown",
   "metadata": {},
   "source": [
    "##### Değişkenler arasındaki ilişki istatistiksel olarak incellenir"
   ]
  },
  {
   "cell_type": "code",
   "execution_count": 14,
   "metadata": {
    "scrolled": true
   },
   "outputs": [
    {
     "data": {
      "text/html": [
       "<div>\n",
       "<style scoped>\n",
       "    .dataframe tbody tr th:only-of-type {\n",
       "        vertical-align: middle;\n",
       "    }\n",
       "\n",
       "    .dataframe tbody tr th {\n",
       "        vertical-align: top;\n",
       "    }\n",
       "\n",
       "    .dataframe thead th {\n",
       "        text-align: right;\n",
       "    }\n",
       "</style>\n",
       "<table border=\"1\" class=\"dataframe\">\n",
       "  <thead>\n",
       "    <tr style=\"text-align: right;\">\n",
       "      <th></th>\n",
       "      <th>Tanı</th>\n",
       "      <th>Ölüm</th>\n",
       "      <th>İyileşen</th>\n",
       "    </tr>\n",
       "  </thead>\n",
       "  <tbody>\n",
       "    <tr>\n",
       "      <td>Tanı</td>\n",
       "      <td>1.000000</td>\n",
       "      <td>0.994058</td>\n",
       "      <td>0.947408</td>\n",
       "    </tr>\n",
       "    <tr>\n",
       "      <td>Ölüm</td>\n",
       "      <td>0.994058</td>\n",
       "      <td>1.000000</td>\n",
       "      <td>0.969003</td>\n",
       "    </tr>\n",
       "    <tr>\n",
       "      <td>İyileşen</td>\n",
       "      <td>0.947408</td>\n",
       "      <td>0.969003</td>\n",
       "      <td>1.000000</td>\n",
       "    </tr>\n",
       "  </tbody>\n",
       "</table>\n",
       "</div>"
      ],
      "text/plain": [
       "              Tanı      Ölüm  İyileşen\n",
       "Tanı      1.000000  0.994058  0.947408\n",
       "Ölüm      0.994058  1.000000  0.969003\n",
       "İyileşen  0.947408  0.969003  1.000000"
      ]
     },
     "execution_count": 14,
     "metadata": {},
     "output_type": "execute_result"
    }
   ],
   "source": [
    "df.corr()"
   ]
  },
  {
   "cell_type": "code",
   "execution_count": null,
   "metadata": {},
   "outputs": [],
   "source": []
  },
  {
   "cell_type": "markdown",
   "metadata": {},
   "source": [
    "##### Görselleştirme araçlarından birisi olan seaborn modülü kullanılır"
   ]
  },
  {
   "cell_type": "code",
   "execution_count": 15,
   "metadata": {},
   "outputs": [],
   "source": [
    "import seaborn as sns"
   ]
  },
  {
   "cell_type": "code",
   "execution_count": 16,
   "metadata": {},
   "outputs": [],
   "source": [
    "sns.set_context(\"poster\")\n",
    "sns.set(rc={\"figure.figsize\":(16,7)})\n",
    "sns.set_style(\"whitegrid\")"
   ]
  },
  {
   "cell_type": "code",
   "execution_count": null,
   "metadata": {},
   "outputs": [],
   "source": []
  },
  {
   "cell_type": "markdown",
   "metadata": {},
   "source": [
    "##### Tanı değişkenin zaman içindeki ilişkisi görsel olarak incelenir"
   ]
  },
  {
   "cell_type": "code",
   "execution_count": 25,
   "metadata": {
    "scrolled": false
   },
   "outputs": [
    {
     "data": {
      "text/plain": [
       "<matplotlib.axes._subplots.AxesSubplot at 0x1ce30828548>"
      ]
     },
     "execution_count": 25,
     "metadata": {},
     "output_type": "execute_result"
    },
    {
     "data": {
      "image/png": "[encoded data removed]",
      "text/plain": [
       "<Figure size 1152x504 with 1 Axes>"
      ]
     },
     "metadata": {},
     "output_type": "display_data"
    }
   ],
   "source": [
    "sns.lineplot(x=df.index,y=df[\"Tanı\"])"
   ]
  },
  {
   "cell_type": "code",
   "execution_count": null,
   "metadata": {},
   "outputs": [],
   "source": []
  },
  {
   "cell_type": "markdown",
   "metadata": {},
   "source": [
    "##### Ölüm değişkenin zaman içindeki ilişkisi görsel olarak incelenir"
   ]
  },
  {
   "cell_type": "code",
   "execution_count": 18,
   "metadata": {
    "scrolled": false
   },
   "outputs": [
    {
     "data": {
      "text/plain": [
       "<matplotlib.axes._subplots.AxesSubplot at 0x1ce2faf0c48>"
      ]
     },
     "execution_count": 18,
     "metadata": {},
     "output_type": "execute_result"
    },
    {
     "data": {
      "image/png": "[encoded data removed]",
      "text/plain": [
       "<Figure size 1152x504 with 1 Axes>"
      ]
     },
     "metadata": {},
     "output_type": "display_data"
    }
   ],
   "source": [
    "sns.lineplot(x=df.index,y=df[\"Ölüm\"],color=\"red\")"
   ]
  },
  {
   "cell_type": "code",
   "execution_count": null,
   "metadata": {},
   "outputs": [],
   "source": []
  },
  {
   "cell_type": "markdown",
   "metadata": {},
   "source": [
    "##### İyileşen değişkenin zaman içindeki ilişkisi görsel olarak incelenir"
   ]
  },
  {
   "cell_type": "code",
   "execution_count": 19,
   "metadata": {
    "scrolled": false
   },
   "outputs": [
    {
     "data": {
      "text/plain": [
       "<matplotlib.axes._subplots.AxesSubplot at 0x1ce2f8f1708>"
      ]
     },
     "execution_count": 19,
     "metadata": {},
     "output_type": "execute_result"
    },
    {
     "data": {
      "image/png": "[encoded data removed]",
      "text/plain": [
       "<Figure size 1152x504 with 1 Axes>"
      ]
     },
     "metadata": {},
     "output_type": "display_data"
    }
   ],
   "source": [
    "sns.lineplot(x=df.index,y=df[\"İyileşen\"],color=\"green\")"
   ]
  },
  {
   "cell_type": "code",
   "execution_count": null,
   "metadata": {},
   "outputs": [],
   "source": []
  },
  {
   "cell_type": "markdown",
   "metadata": {},
   "source": [
    "##### 3 Değişkenin (Tanı,Ölüm,İyileşen) aynı tabloda zaman içindeki ilişkisi görsel incelenir"
   ]
  },
  {
   "cell_type": "code",
   "execution_count": 20,
   "metadata": {},
   "outputs": [
    {
     "data": {
      "text/plain": [
       "<matplotlib.axes._subplots.AxesSubplot at 0x1ce2ff78bc8>"
      ]
     },
     "execution_count": 20,
     "metadata": {},
     "output_type": "execute_result"
    },
    {
     "data": {
      "image/png": "[encoded data removed]",
      "text/plain": [
       "<Figure size 1152x504 with 1 Axes>"
      ]
     },
     "metadata": {},
     "output_type": "display_data"
    }
   ],
   "source": [
    "sns.lineplot(x=df.index,y=df[\"Tanı\"],color=\"blue\")\n",
    "sns.lineplot(x=df.index,y=df[\"Ölüm\"],color=\"red\")\n",
    "sns.lineplot(x=df.index,y=df[\"İyileşen\"],color=\"green\")"
   ]
  },
  {
   "cell_type": "code",
   "execution_count": null,
   "metadata": {},
   "outputs": [],
   "source": []
  },
  {
   "cell_type": "markdown",
   "metadata": {},
   "source": [
    "##### Diğer görselleştirme aracı olan matplotlib modülü eklenir"
   ]
  },
  {
   "cell_type": "code",
   "execution_count": 21,
   "metadata": {},
   "outputs": [],
   "source": [
    "import matplotlib.pyplot as plt"
   ]
  },
  {
   "cell_type": "code",
   "execution_count": null,
   "metadata": {},
   "outputs": [],
   "source": []
  },
  {
   "cell_type": "markdown",
   "metadata": {},
   "source": [
    "##### 3 Değişkenin (Tanı,Ölüm,İyileşen) aynı tabloda zaman içindeki ilişkisi görsel incelenir"
   ]
  },
  {
   "cell_type": "code",
   "execution_count": 22,
   "metadata": {
    "scrolled": false
   },
   "outputs": [
    {
     "data": {
      "text/plain": [
       "<matplotlib.legend.Legend at 0x1ce30141e48>"
      ]
     },
     "execution_count": 22,
     "metadata": {},
     "output_type": "execute_result"
    },
    {
     "data": {
      "image/png": "[encoded data removed]",
      "text/plain": [
       "<Figure size 1152x504 with 1 Axes>"
      ]
     },
     "metadata": {},
     "output_type": "display_data"
    }
   ],
   "source": [
    "plt.plot(df[\"Tanı\"],marker=\"o\",lw=3)\n",
    "plt.plot(df[\"Ölüm\"],marker=\"o\",lw=3)\n",
    "plt.plot(df[\"İyileşen\"],marker=\"o\",lw=3)\n",
    "plt.legend([\"Tanı\",\"Ölüm\",\"İyileşen\"],loc=\"upper left\")"
   ]
  },
  {
   "cell_type": "code",
   "execution_count": null,
   "metadata": {},
   "outputs": [],
   "source": []
  },
  {
   "cell_type": "markdown",
   "metadata": {},
   "source": [
    "##### Zaman değişkeninde kısaltma yapılır.(Nisan'ın 1. gününden 7.günene kadar)"
   ]
  },
  {
   "cell_type": "code",
   "execution_count": 23,
   "metadata": {
    "scrolled": false
   },
   "outputs": [
    {
     "data": {
      "text/plain": [
       "<matplotlib.legend.Legend at 0x1ce30186f88>"
      ]
     },
     "execution_count": 23,
     "metadata": {},
     "output_type": "execute_result"
    },
    {
     "data": {
      "image/png": "[encoded data removed]",
      "text/plain": [
       "<Figure size 1152x504 with 1 Axes>"
      ]
     },
     "metadata": {},
     "output_type": "display_data"
    }
   ],
   "source": [
    "plt.plot(df[\"Tanı\"],lw=3,marker=\"o\")\n",
    "plt.plot(df[\"Ölüm\"],lw=3,marker=\"o\")\n",
    "plt.plot(df[\"İyileşen\"],lw=3,marker=\"o\")\n",
    "plt.xlim(\"2020-04-01\",\"2020-04-7\")\n",
    "plt.legend([\"Tanı\",\"Ölüm\",\"İyileşen\"],loc=\"upper left\")"
   ]
  },
  {
   "cell_type": "code",
   "execution_count": null,
   "metadata": {},
   "outputs": [],
   "source": []
  },
  {
   "cell_type": "markdown",
   "metadata": {},
   "source": [
    "##### Zaman değişkeninde kısaltma yapılır.(Mart ayının 11.gününden 31.gününe kadar)"
   ]
  },
  {
   "cell_type": "code",
   "execution_count": 24,
   "metadata": {},
   "outputs": [
    {
     "data": {
      "text/plain": [
       "<matplotlib.legend.Legend at 0x1ce305aa548>"
      ]
     },
     "execution_count": 24,
     "metadata": {},
     "output_type": "execute_result"
    },
    {
     "data": {
      "image/png": "[encoded data removed]",
      "text/plain": [
       "<Figure size 1152x504 with 1 Axes>"
      ]
     },
     "metadata": {},
     "output_type": "display_data"
    }
   ],
   "source": [
    "plt.plot(df[\"Tanı\"],marker=\"o\",lw=1)\n",
    "plt.plot(df[\"Ölüm\"],marker=\"o\",lw=3)\n",
    "plt.plot(df[\"İyileşen\"],marker=\"o\",lw=1)\n",
    "plt.xlim(\"2020-03-10\",\"2020-03-31\")\n",
    "plt.legend([\"Tanı\",\"Ölüm\",\"İyileşen\"],loc=\"upper left\")"
   ]
  },
  {
   "cell_type": "code",
   "execution_count": null,
   "metadata": {},
   "outputs": [],
   "source": []
  }
 ],
 "metadata": {
  "kernelspec": {
   "display_name": "Python 3",
   "language": "python",
   "name": "python3"
  },
  "language_info": {
   "codemirror_mode": {
    "name": "ipython",
    "version": 3
   },
   "file_extension": ".py",
   "mimetype": "text/x-python",
   "name": "python",
   "nbconvert_exporter": "python",
   "pygments_lexer": "ipython3",
   "version": "3.7.4"
  }
 },
 "nbformat": 4,
 "nbformat_minor": 2
}
